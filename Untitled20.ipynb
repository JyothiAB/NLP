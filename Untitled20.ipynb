{
  "nbformat": 4,
  "nbformat_minor": 0,
  "metadata": {
    "colab": {
      "provenance": [],
      "authorship_tag": "ABX9TyPp+L06h2gVa9sFjVU56QMM",
      "include_colab_link": true
    },
    "kernelspec": {
      "name": "python3",
      "display_name": "Python 3"
    },
    "language_info": {
      "name": "python"
    },
    "gpuClass": "standard"
  },
  "cells": [
    {
      "cell_type": "markdown",
      "metadata": {
        "id": "view-in-github",
        "colab_type": "text"
      },
      "source": [
        "<a href=\"https://colab.research.google.com/github/JyothiAB/NLP/blob/Word-Embedding-Layer/Untitled20.ipynb\" target=\"_parent\"><img src=\"https://colab.research.google.com/assets/colab-badge.svg\" alt=\"Open In Colab\"/></a>"
      ]
    },
    {
      "cell_type": "code",
      "source": [
        "sent=[\"The world is a better place\",\n",
        "      \"Marvel series is my favourite movie\",\n",
        "      \"I like DC movies\",\n",
        "      \"the cat is eating the food\",\n",
        "      \"Tom and Jerry is my favourite movie\",\n",
        "      \"Python is my favourite programming language\"\n",
        "      ]"
      ],
      "metadata": {
        "id": "PuhK3oEv0JEb"
      },
      "execution_count": 1,
      "outputs": []
    },
    {
      "cell_type": "code",
      "source": [
        "!pip install tensorflow"
      ],
      "metadata": {
        "colab": {
          "base_uri": "https://localhost:8080/"
        },
        "id": "KkdAnYBi0J_F",
        "outputId": "e2d40fb6-1335-429b-d56f-7ed48542cfbf"
      },
      "execution_count": 2,
      "outputs": [
        {
          "output_type": "stream",
          "name": "stdout",
          "text": [
            "Looking in indexes: https://pypi.org/simple, https://us-python.pkg.dev/colab-wheels/public/simple/\n",
            "Requirement already satisfied: tensorflow in /usr/local/lib/python3.8/dist-packages (2.9.2)\n",
            "Requirement already satisfied: libclang>=13.0.0 in /usr/local/lib/python3.8/dist-packages (from tensorflow) (15.0.6.1)\n",
            "Requirement already satisfied: packaging in /usr/local/lib/python3.8/dist-packages (from tensorflow) (21.3)\n",
            "Requirement already satisfied: wrapt>=1.11.0 in /usr/local/lib/python3.8/dist-packages (from tensorflow) (1.14.1)\n",
            "Requirement already satisfied: keras<2.10.0,>=2.9.0rc0 in /usr/local/lib/python3.8/dist-packages (from tensorflow) (2.9.0)\n",
            "Requirement already satisfied: opt-einsum>=2.3.2 in /usr/local/lib/python3.8/dist-packages (from tensorflow) (3.3.0)\n",
            "Requirement already satisfied: numpy>=1.20 in /usr/local/lib/python3.8/dist-packages (from tensorflow) (1.21.6)\n",
            "Requirement already satisfied: keras-preprocessing>=1.1.1 in /usr/local/lib/python3.8/dist-packages (from tensorflow) (1.1.2)\n",
            "Requirement already satisfied: typing-extensions>=3.6.6 in /usr/local/lib/python3.8/dist-packages (from tensorflow) (4.4.0)\n",
            "Requirement already satisfied: protobuf<3.20,>=3.9.2 in /usr/local/lib/python3.8/dist-packages (from tensorflow) (3.19.6)\n",
            "Requirement already satisfied: google-pasta>=0.1.1 in /usr/local/lib/python3.8/dist-packages (from tensorflow) (0.2.0)\n",
            "Requirement already satisfied: termcolor>=1.1.0 in /usr/local/lib/python3.8/dist-packages (from tensorflow) (2.2.0)\n",
            "Requirement already satisfied: grpcio<2.0,>=1.24.3 in /usr/local/lib/python3.8/dist-packages (from tensorflow) (1.51.1)\n",
            "Requirement already satisfied: astunparse>=1.6.0 in /usr/local/lib/python3.8/dist-packages (from tensorflow) (1.6.3)\n",
            "Requirement already satisfied: flatbuffers<2,>=1.12 in /usr/local/lib/python3.8/dist-packages (from tensorflow) (1.12)\n",
            "Requirement already satisfied: tensorboard<2.10,>=2.9 in /usr/local/lib/python3.8/dist-packages (from tensorflow) (2.9.1)\n",
            "Requirement already satisfied: absl-py>=1.0.0 in /usr/local/lib/python3.8/dist-packages (from tensorflow) (1.3.0)\n",
            "Requirement already satisfied: six>=1.12.0 in /usr/local/lib/python3.8/dist-packages (from tensorflow) (1.15.0)\n",
            "Requirement already satisfied: tensorflow-io-gcs-filesystem>=0.23.1 in /usr/local/lib/python3.8/dist-packages (from tensorflow) (0.29.0)\n",
            "Requirement already satisfied: gast<=0.4.0,>=0.2.1 in /usr/local/lib/python3.8/dist-packages (from tensorflow) (0.4.0)\n",
            "Requirement already satisfied: tensorflow-estimator<2.10.0,>=2.9.0rc0 in /usr/local/lib/python3.8/dist-packages (from tensorflow) (2.9.0)\n",
            "Requirement already satisfied: h5py>=2.9.0 in /usr/local/lib/python3.8/dist-packages (from tensorflow) (3.1.0)\n",
            "Requirement already satisfied: setuptools in /usr/local/lib/python3.8/dist-packages (from tensorflow) (57.4.0)\n",
            "Requirement already satisfied: wheel<1.0,>=0.23.0 in /usr/local/lib/python3.8/dist-packages (from astunparse>=1.6.0->tensorflow) (0.38.4)\n",
            "Requirement already satisfied: google-auth<3,>=1.6.3 in /usr/local/lib/python3.8/dist-packages (from tensorboard<2.10,>=2.9->tensorflow) (2.16.0)\n",
            "Requirement already satisfied: werkzeug>=1.0.1 in /usr/local/lib/python3.8/dist-packages (from tensorboard<2.10,>=2.9->tensorflow) (1.0.1)\n",
            "Requirement already satisfied: tensorboard-data-server<0.7.0,>=0.6.0 in /usr/local/lib/python3.8/dist-packages (from tensorboard<2.10,>=2.9->tensorflow) (0.6.1)\n",
            "Requirement already satisfied: requests<3,>=2.21.0 in /usr/local/lib/python3.8/dist-packages (from tensorboard<2.10,>=2.9->tensorflow) (2.25.1)\n",
            "Requirement already satisfied: tensorboard-plugin-wit>=1.6.0 in /usr/local/lib/python3.8/dist-packages (from tensorboard<2.10,>=2.9->tensorflow) (1.8.1)\n",
            "Requirement already satisfied: google-auth-oauthlib<0.5,>=0.4.1 in /usr/local/lib/python3.8/dist-packages (from tensorboard<2.10,>=2.9->tensorflow) (0.4.6)\n",
            "Requirement already satisfied: markdown>=2.6.8 in /usr/local/lib/python3.8/dist-packages (from tensorboard<2.10,>=2.9->tensorflow) (3.4.1)\n",
            "Requirement already satisfied: pyparsing!=3.0.5,>=2.0.2 in /usr/local/lib/python3.8/dist-packages (from packaging->tensorflow) (3.0.9)\n",
            "Requirement already satisfied: rsa<5,>=3.1.4 in /usr/local/lib/python3.8/dist-packages (from google-auth<3,>=1.6.3->tensorboard<2.10,>=2.9->tensorflow) (4.9)\n",
            "Requirement already satisfied: pyasn1-modules>=0.2.1 in /usr/local/lib/python3.8/dist-packages (from google-auth<3,>=1.6.3->tensorboard<2.10,>=2.9->tensorflow) (0.2.8)\n",
            "Requirement already satisfied: cachetools<6.0,>=2.0.0 in /usr/local/lib/python3.8/dist-packages (from google-auth<3,>=1.6.3->tensorboard<2.10,>=2.9->tensorflow) (5.2.1)\n",
            "Requirement already satisfied: requests-oauthlib>=0.7.0 in /usr/local/lib/python3.8/dist-packages (from google-auth-oauthlib<0.5,>=0.4.1->tensorboard<2.10,>=2.9->tensorflow) (1.3.1)\n",
            "Requirement already satisfied: importlib-metadata>=4.4 in /usr/local/lib/python3.8/dist-packages (from markdown>=2.6.8->tensorboard<2.10,>=2.9->tensorflow) (6.0.0)\n",
            "Requirement already satisfied: certifi>=2017.4.17 in /usr/local/lib/python3.8/dist-packages (from requests<3,>=2.21.0->tensorboard<2.10,>=2.9->tensorflow) (2022.12.7)\n",
            "Requirement already satisfied: chardet<5,>=3.0.2 in /usr/local/lib/python3.8/dist-packages (from requests<3,>=2.21.0->tensorboard<2.10,>=2.9->tensorflow) (4.0.0)\n",
            "Requirement already satisfied: urllib3<1.27,>=1.21.1 in /usr/local/lib/python3.8/dist-packages (from requests<3,>=2.21.0->tensorboard<2.10,>=2.9->tensorflow) (1.24.3)\n",
            "Requirement already satisfied: idna<3,>=2.5 in /usr/local/lib/python3.8/dist-packages (from requests<3,>=2.21.0->tensorboard<2.10,>=2.9->tensorflow) (2.10)\n",
            "Requirement already satisfied: zipp>=0.5 in /usr/local/lib/python3.8/dist-packages (from importlib-metadata>=4.4->markdown>=2.6.8->tensorboard<2.10,>=2.9->tensorflow) (3.11.0)\n",
            "Requirement already satisfied: pyasn1<0.5.0,>=0.4.6 in /usr/local/lib/python3.8/dist-packages (from pyasn1-modules>=0.2.1->google-auth<3,>=1.6.3->tensorboard<2.10,>=2.9->tensorflow) (0.4.8)\n",
            "Requirement already satisfied: oauthlib>=3.0.0 in /usr/local/lib/python3.8/dist-packages (from requests-oauthlib>=0.7.0->google-auth-oauthlib<0.5,>=0.4.1->tensorboard<2.10,>=2.9->tensorflow) (3.2.2)\n"
          ]
        }
      ]
    },
    {
      "cell_type": "code",
      "source": [
        "import tensorflow\n",
        "print(tensorflow.__version__)"
      ],
      "metadata": {
        "colab": {
          "base_uri": "https://localhost:8080/"
        },
        "id": "ld4pv2P60Skc",
        "outputId": "70589062-22a4-437a-fa8e-9f4748357339"
      },
      "execution_count": 5,
      "outputs": [
        {
          "output_type": "stream",
          "name": "stdout",
          "text": [
            "2.9.2\n"
          ]
        }
      ]
    },
    {
      "cell_type": "code",
      "source": [
        "#One hot representation\n",
        "vocab_size = 50\n",
        "from tensorflow.keras.preprocessing.text import one_hot"
      ],
      "metadata": {
        "id": "3abdPYen0qoY"
      },
      "execution_count": 6,
      "outputs": []
    },
    {
      "cell_type": "code",
      "source": [
        "ohe = [one_hot(words,vocab_size) for words in sent]"
      ],
      "metadata": {
        "id": "rVTTfvT-1Xvv"
      },
      "execution_count": 7,
      "outputs": []
    },
    {
      "cell_type": "code",
      "source": [
        "ohe"
      ],
      "metadata": {
        "colab": {
          "base_uri": "https://localhost:8080/"
        },
        "id": "v5hnxeIx1nJt",
        "outputId": "86cd4427-2fe4-4dc9-e0aa-d29f3d2c3677"
      },
      "execution_count": 8,
      "outputs": [
        {
          "output_type": "execute_result",
          "data": {
            "text/plain": [
              "[[48, 14, 15, 4, 19, 45],\n",
              " [10, 12, 15, 21, 4, 30],\n",
              " [22, 4, 42, 38],\n",
              " [48, 25, 15, 23, 48, 48],\n",
              " [7, 3, 11, 15, 21, 4, 30],\n",
              " [3, 15, 21, 4, 32, 13]]"
            ]
          },
          "metadata": {},
          "execution_count": 8
        }
      ]
    },
    {
      "cell_type": "code",
      "source": [
        "#Padding\n",
        "sent_length = 10\n",
        "from tensorflow.keras.preprocessing.sequence import pad_sequences\n",
        "ohe_pad = pad_sequences(ohe,sent_length)\n",
        "ohe_pad\n"
      ],
      "metadata": {
        "colab": {
          "base_uri": "https://localhost:8080/"
        },
        "id": "9R6s0fDn1oLL",
        "outputId": "81dd9936-33b0-473f-c4c8-64b0354b2589"
      },
      "execution_count": 9,
      "outputs": [
        {
          "output_type": "execute_result",
          "data": {
            "text/plain": [
              "array([[ 0,  0,  0,  0, 48, 14, 15,  4, 19, 45],\n",
              "       [ 0,  0,  0,  0, 10, 12, 15, 21,  4, 30],\n",
              "       [ 0,  0,  0,  0,  0,  0, 22,  4, 42, 38],\n",
              "       [ 0,  0,  0,  0, 48, 25, 15, 23, 48, 48],\n",
              "       [ 0,  0,  0,  7,  3, 11, 15, 21,  4, 30],\n",
              "       [ 0,  0,  0,  0,  3, 15, 21,  4, 32, 13]], dtype=int32)"
            ]
          },
          "metadata": {},
          "execution_count": 9
        }
      ]
    },
    {
      "cell_type": "code",
      "source": [
        "#Embedded Layer\n",
        "feat_dim = 100\n",
        "from tensorflow.keras.models import Sequential\n",
        "from tensorflow.keras.layers import Embedding"
      ],
      "metadata": {
        "id": "W8UzU9T22Tay"
      },
      "execution_count": 14,
      "outputs": []
    },
    {
      "cell_type": "code",
      "source": [
        "model = Sequential()\n",
        "model.add(Embedding(input_dim = vocab_size, output_dim = feat_dim, input_length = sent_length))\n",
        "model.compile('adam','mse')"
      ],
      "metadata": {
        "id": "6G-hr9A33FmE"
      },
      "execution_count": 15,
      "outputs": []
    },
    {
      "cell_type": "code",
      "source": [
        "model.predict(ohe_pad)"
      ],
      "metadata": {
        "colab": {
          "base_uri": "https://localhost:8080/"
        },
        "id": "5pfR_brC3lYy",
        "outputId": "53b69b15-28f7-4e37-d768-6790cca88086"
      },
      "execution_count": 16,
      "outputs": [
        {
          "output_type": "stream",
          "name": "stdout",
          "text": [
            "1/1 [==============================] - 0s 381ms/step\n"
          ]
        },
        {
          "output_type": "execute_result",
          "data": {
            "text/plain": [
              "array([[[ 0.01805579,  0.01893394,  0.01301808, ...,  0.02492935,\n",
              "          0.01909378,  0.0100026 ],\n",
              "        [ 0.01805579,  0.01893394,  0.01301808, ...,  0.02492935,\n",
              "          0.01909378,  0.0100026 ],\n",
              "        [ 0.01805579,  0.01893394,  0.01301808, ...,  0.02492935,\n",
              "          0.01909378,  0.0100026 ],\n",
              "        ...,\n",
              "        [-0.01610535, -0.02070643,  0.01893165, ...,  0.02792624,\n",
              "          0.04218968, -0.00200219],\n",
              "        [ 0.0411476 , -0.03789156,  0.03671065, ...,  0.00217285,\n",
              "          0.02132335, -0.00178249],\n",
              "        [-0.02234905,  0.04164854,  0.01741347, ...,  0.04661295,\n",
              "          0.00826297,  0.00649571]],\n",
              "\n",
              "       [[ 0.01805579,  0.01893394,  0.01301808, ...,  0.02492935,\n",
              "          0.01909378,  0.0100026 ],\n",
              "        [ 0.01805579,  0.01893394,  0.01301808, ...,  0.02492935,\n",
              "          0.01909378,  0.0100026 ],\n",
              "        [ 0.01805579,  0.01893394,  0.01301808, ...,  0.02492935,\n",
              "          0.01909378,  0.0100026 ],\n",
              "        ...,\n",
              "        [-0.01382123, -0.0337313 , -0.02394019, ...,  0.04478783,\n",
              "         -0.00054812, -0.03473347],\n",
              "        [-0.01610535, -0.02070643,  0.01893165, ...,  0.02792624,\n",
              "          0.04218968, -0.00200219],\n",
              "        [ 0.02901584, -0.03899392,  0.0374948 , ..., -0.01540828,\n",
              "         -0.00986484,  0.0306916 ]],\n",
              "\n",
              "       [[ 0.01805579,  0.01893394,  0.01301808, ...,  0.02492935,\n",
              "          0.01909378,  0.0100026 ],\n",
              "        [ 0.01805579,  0.01893394,  0.01301808, ...,  0.02492935,\n",
              "          0.01909378,  0.0100026 ],\n",
              "        [ 0.01805579,  0.01893394,  0.01301808, ...,  0.02492935,\n",
              "          0.01909378,  0.0100026 ],\n",
              "        ...,\n",
              "        [-0.01610535, -0.02070643,  0.01893165, ...,  0.02792624,\n",
              "          0.04218968, -0.00200219],\n",
              "        [-0.01223267,  0.03214082,  0.03239651, ..., -0.00826565,\n",
              "         -0.03795028,  0.01162276],\n",
              "        [ 0.00684569,  0.04334191, -0.03021605, ...,  0.0344421 ,\n",
              "         -0.03324455, -0.04641907]],\n",
              "\n",
              "       [[ 0.01805579,  0.01893394,  0.01301808, ...,  0.02492935,\n",
              "          0.01909378,  0.0100026 ],\n",
              "        [ 0.01805579,  0.01893394,  0.01301808, ...,  0.02492935,\n",
              "          0.01909378,  0.0100026 ],\n",
              "        [ 0.01805579,  0.01893394,  0.01301808, ...,  0.02492935,\n",
              "          0.01909378,  0.0100026 ],\n",
              "        ...,\n",
              "        [-0.01813017, -0.0187668 ,  0.03506284, ...,  0.01710488,\n",
              "          0.01408385, -0.02790408],\n",
              "        [ 0.04806452, -0.03877211, -0.02468842, ...,  0.00397714,\n",
              "          0.00771401, -0.02536877],\n",
              "        [ 0.04806452, -0.03877211, -0.02468842, ...,  0.00397714,\n",
              "          0.00771401, -0.02536877]],\n",
              "\n",
              "       [[ 0.01805579,  0.01893394,  0.01301808, ...,  0.02492935,\n",
              "          0.01909378,  0.0100026 ],\n",
              "        [ 0.01805579,  0.01893394,  0.01301808, ...,  0.02492935,\n",
              "          0.01909378,  0.0100026 ],\n",
              "        [ 0.01805579,  0.01893394,  0.01301808, ...,  0.02492935,\n",
              "          0.01909378,  0.0100026 ],\n",
              "        ...,\n",
              "        [-0.01382123, -0.0337313 , -0.02394019, ...,  0.04478783,\n",
              "         -0.00054812, -0.03473347],\n",
              "        [-0.01610535, -0.02070643,  0.01893165, ...,  0.02792624,\n",
              "          0.04218968, -0.00200219],\n",
              "        [ 0.02901584, -0.03899392,  0.0374948 , ..., -0.01540828,\n",
              "         -0.00986484,  0.0306916 ]],\n",
              "\n",
              "       [[ 0.01805579,  0.01893394,  0.01301808, ...,  0.02492935,\n",
              "          0.01909378,  0.0100026 ],\n",
              "        [ 0.01805579,  0.01893394,  0.01301808, ...,  0.02492935,\n",
              "          0.01909378,  0.0100026 ],\n",
              "        [ 0.01805579,  0.01893394,  0.01301808, ...,  0.02492935,\n",
              "          0.01909378,  0.0100026 ],\n",
              "        ...,\n",
              "        [-0.01610535, -0.02070643,  0.01893165, ...,  0.02792624,\n",
              "          0.04218968, -0.00200219],\n",
              "        [ 0.02858696, -0.03968669,  0.00083154, ..., -0.02530348,\n",
              "         -0.04910938,  0.03283865],\n",
              "        [-0.01249409, -0.00935362, -0.03123858, ..., -0.01713934,\n",
              "          0.00972594, -0.04754373]]], dtype=float32)"
            ]
          },
          "metadata": {},
          "execution_count": 16
        }
      ]
    },
    {
      "cell_type": "code",
      "source": [],
      "metadata": {
        "id": "ONA0zlUM3qKZ"
      },
      "execution_count": null,
      "outputs": []
    },
    {
      "cell_type": "code",
      "source": [],
      "metadata": {
        "colab": {
          "base_uri": "https://localhost:8080/",
          "height": 304
        },
        "id": "zOnugtDE21k5",
        "outputId": "35230902-bc31-4fcc-dbb2-cffca50c5319"
      },
      "execution_count": 12,
      "outputs": [
        {
          "output_type": "error",
          "ename": "ImportError",
          "evalue": "ignored",
          "traceback": [
            "\u001b[0;31m---------------------------------------------------------------------------\u001b[0m",
            "\u001b[0;31mImportError\u001b[0m                               Traceback (most recent call last)",
            "\u001b[0;32m<ipython-input-12-57462a850142>\u001b[0m in \u001b[0;36m<module>\u001b[0;34m\u001b[0m\n\u001b[0;32m----> 1\u001b[0;31m \u001b[0;32mfrom\u001b[0m \u001b[0mtensorflow\u001b[0m\u001b[0;34m.\u001b[0m\u001b[0mkeras\u001b[0m\u001b[0;34m.\u001b[0m\u001b[0mlayers\u001b[0m \u001b[0;32mimport\u001b[0m \u001b[0mEmbedded\u001b[0m\u001b[0;34m\u001b[0m\u001b[0;34m\u001b[0m\u001b[0m\n\u001b[0m",
            "\u001b[0;31mImportError\u001b[0m: cannot import name 'Embedded' from 'tensorflow.keras.layers' (/usr/local/lib/python3.8/dist-packages/keras/api/_v2/keras/layers/__init__.py)",
            "",
            "\u001b[0;31m---------------------------------------------------------------------------\u001b[0;32m\nNOTE: If your import is failing due to a missing package, you can\nmanually install dependencies using either !pip or !apt.\n\nTo view examples of installing some common dependencies, click the\n\"Open Examples\" button below.\n\u001b[0;31m---------------------------------------------------------------------------\u001b[0m\n"
          ],
          "errorDetails": {
            "actions": [
              {
                "action": "open_url",
                "actionText": "Open Examples",
                "url": "/notebooks/snippets/importing_libraries.ipynb"
              }
            ]
          }
        }
      ]
    },
    {
      "cell_type": "code",
      "source": [],
      "metadata": {
        "id": "liUfXWOk22zJ"
      },
      "execution_count": null,
      "outputs": []
    },
    {
      "cell_type": "code",
      "source": [],
      "metadata": {
        "id": "_53Qohfh2q32"
      },
      "execution_count": null,
      "outputs": []
    },
    {
      "cell_type": "code",
      "source": [],
      "metadata": {
        "id": "yUxL0WkJ1UQT"
      },
      "execution_count": null,
      "outputs": []
    },
    {
      "cell_type": "code",
      "source": [],
      "metadata": {
        "id": "MpK3z2dg0k-D"
      },
      "execution_count": null,
      "outputs": []
    },
    {
      "cell_type": "code",
      "source": [],
      "metadata": {
        "id": "3Ldl0bsh0aKD"
      },
      "execution_count": null,
      "outputs": []
    }
  ]
}